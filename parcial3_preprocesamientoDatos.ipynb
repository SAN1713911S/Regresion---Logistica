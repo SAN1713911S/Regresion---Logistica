{
  "nbformat": 4,
  "nbformat_minor": 0,
  "metadata": {
    "colab": {
      "provenance": [],
      "collapsed_sections": [
        "5V58AMKT5S7B",
        "5hOsUP1J5ZEL",
        "5Wsbslub5ZU4",
        "ZjmxUZe25ZpH"
      ]
    },
    "kernelspec": {
      "name": "python3",
      "display_name": "Python 3"
    },
    "language_info": {
      "name": "python"
    }
  },
  "cells": [
    {
      "cell_type": "markdown",
      "source": [
        "# PARCIAL 3 - ESTEBAN RODRIGUEZ - EXPLORACION Y PREPROCESAMIENTO DE DATOS"
      ],
      "metadata": {
        "id": "lc3SL_YWaIvX"
      }
    },
    {
      "cell_type": "code",
      "execution_count": null,
      "metadata": {
        "id": "6qVBm3gI1_mH"
      },
      "outputs": [],
      "source": [
        "import pandas as pd\n",
        "from sklearn.model_selection import train_test_split\n",
        "from sklearn.preprocessing import MinMaxScaler, StandardScaler, RobustScaler, OneHotEncoder, OrdinalEncoder, PowerTransformer\n",
        "from sklearn.pipeline import Pipeline\n",
        "from sklearn.compose import ColumnTransformer\n",
        "from sklearn.model_selection import cross_validate\n",
        "from sklearn.linear_model import LogisticRegression\n",
        "from sklearn.metrics import accuracy_score\n",
        "from sklearn.experimental import enable_iterative_imputer\n",
        "from sklearn.impute import SimpleImputer, KNNImputer, IterativeImputer\n",
        "from joblib import dump\n",
        "from joblib import load"
      ]
    },
    {
      "cell_type": "code",
      "source": [
        "df = pd.read_csv(\"/content/bank.csv\", delimiter=';')"
      ],
      "metadata": {
        "id": "lJfWH3JO3wRb"
      },
      "execution_count": null,
      "outputs": []
    },
    {
      "cell_type": "code",
      "source": [
        "df.head()"
      ],
      "metadata": {
        "colab": {
          "base_uri": "https://localhost:8080/",
          "height": 270
        },
        "id": "s2UTIf3v36U7",
        "outputId": "ce30ae9c-96f0-4fc6-eff2-2518791fee28"
      },
      "execution_count": null,
      "outputs": [
        {
          "output_type": "execute_result",
          "data": {
            "text/plain": [
              "   age          job  marital  education default  balance housing loan  \\\n",
              "0   30   unemployed  married    primary      no     1787      no   no   \n",
              "1   33     services  married  secondary      no     4789     yes  yes   \n",
              "2   35   management   single   tertiary      no     1350     yes   no   \n",
              "3   30   management  married   tertiary      no     1476     yes  yes   \n",
              "4   59  blue-collar  married  secondary      no        0     yes   no   \n",
              "\n",
              "    contact  day month  duration  campaign  pdays  previous poutcome   y  \n",
              "0  cellular   19   oct        79         1     -1         0  unknown  no  \n",
              "1  cellular   11   may       220         1    339         4  failure  no  \n",
              "2  cellular   16   apr       185         1    330         1  failure  no  \n",
              "3   unknown    3   jun       199         4     -1         0  unknown  no  \n",
              "4   unknown    5   may       226         1     -1         0  unknown  no  "
            ],
            "text/html": [
              "\n",
              "  <div id=\"df-4ff2fc51-d70f-4499-8709-cde38fc9767e\">\n",
              "    <div class=\"colab-df-container\">\n",
              "      <div>\n",
              "<style scoped>\n",
              "    .dataframe tbody tr th:only-of-type {\n",
              "        vertical-align: middle;\n",
              "    }\n",
              "\n",
              "    .dataframe tbody tr th {\n",
              "        vertical-align: top;\n",
              "    }\n",
              "\n",
              "    .dataframe thead th {\n",
              "        text-align: right;\n",
              "    }\n",
              "</style>\n",
              "<table border=\"1\" class=\"dataframe\">\n",
              "  <thead>\n",
              "    <tr style=\"text-align: right;\">\n",
              "      <th></th>\n",
              "      <th>age</th>\n",
              "      <th>job</th>\n",
              "      <th>marital</th>\n",
              "      <th>education</th>\n",
              "      <th>default</th>\n",
              "      <th>balance</th>\n",
              "      <th>housing</th>\n",
              "      <th>loan</th>\n",
              "      <th>contact</th>\n",
              "      <th>day</th>\n",
              "      <th>month</th>\n",
              "      <th>duration</th>\n",
              "      <th>campaign</th>\n",
              "      <th>pdays</th>\n",
              "      <th>previous</th>\n",
              "      <th>poutcome</th>\n",
              "      <th>y</th>\n",
              "    </tr>\n",
              "  </thead>\n",
              "  <tbody>\n",
              "    <tr>\n",
              "      <th>0</th>\n",
              "      <td>30</td>\n",
              "      <td>unemployed</td>\n",
              "      <td>married</td>\n",
              "      <td>primary</td>\n",
              "      <td>no</td>\n",
              "      <td>1787</td>\n",
              "      <td>no</td>\n",
              "      <td>no</td>\n",
              "      <td>cellular</td>\n",
              "      <td>19</td>\n",
              "      <td>oct</td>\n",
              "      <td>79</td>\n",
              "      <td>1</td>\n",
              "      <td>-1</td>\n",
              "      <td>0</td>\n",
              "      <td>unknown</td>\n",
              "      <td>no</td>\n",
              "    </tr>\n",
              "    <tr>\n",
              "      <th>1</th>\n",
              "      <td>33</td>\n",
              "      <td>services</td>\n",
              "      <td>married</td>\n",
              "      <td>secondary</td>\n",
              "      <td>no</td>\n",
              "      <td>4789</td>\n",
              "      <td>yes</td>\n",
              "      <td>yes</td>\n",
              "      <td>cellular</td>\n",
              "      <td>11</td>\n",
              "      <td>may</td>\n",
              "      <td>220</td>\n",
              "      <td>1</td>\n",
              "      <td>339</td>\n",
              "      <td>4</td>\n",
              "      <td>failure</td>\n",
              "      <td>no</td>\n",
              "    </tr>\n",
              "    <tr>\n",
              "      <th>2</th>\n",
              "      <td>35</td>\n",
              "      <td>management</td>\n",
              "      <td>single</td>\n",
              "      <td>tertiary</td>\n",
              "      <td>no</td>\n",
              "      <td>1350</td>\n",
              "      <td>yes</td>\n",
              "      <td>no</td>\n",
              "      <td>cellular</td>\n",
              "      <td>16</td>\n",
              "      <td>apr</td>\n",
              "      <td>185</td>\n",
              "      <td>1</td>\n",
              "      <td>330</td>\n",
              "      <td>1</td>\n",
              "      <td>failure</td>\n",
              "      <td>no</td>\n",
              "    </tr>\n",
              "    <tr>\n",
              "      <th>3</th>\n",
              "      <td>30</td>\n",
              "      <td>management</td>\n",
              "      <td>married</td>\n",
              "      <td>tertiary</td>\n",
              "      <td>no</td>\n",
              "      <td>1476</td>\n",
              "      <td>yes</td>\n",
              "      <td>yes</td>\n",
              "      <td>unknown</td>\n",
              "      <td>3</td>\n",
              "      <td>jun</td>\n",
              "      <td>199</td>\n",
              "      <td>4</td>\n",
              "      <td>-1</td>\n",
              "      <td>0</td>\n",
              "      <td>unknown</td>\n",
              "      <td>no</td>\n",
              "    </tr>\n",
              "    <tr>\n",
              "      <th>4</th>\n",
              "      <td>59</td>\n",
              "      <td>blue-collar</td>\n",
              "      <td>married</td>\n",
              "      <td>secondary</td>\n",
              "      <td>no</td>\n",
              "      <td>0</td>\n",
              "      <td>yes</td>\n",
              "      <td>no</td>\n",
              "      <td>unknown</td>\n",
              "      <td>5</td>\n",
              "      <td>may</td>\n",
              "      <td>226</td>\n",
              "      <td>1</td>\n",
              "      <td>-1</td>\n",
              "      <td>0</td>\n",
              "      <td>unknown</td>\n",
              "      <td>no</td>\n",
              "    </tr>\n",
              "  </tbody>\n",
              "</table>\n",
              "</div>\n",
              "      <button class=\"colab-df-convert\" onclick=\"convertToInteractive('df-4ff2fc51-d70f-4499-8709-cde38fc9767e')\"\n",
              "              title=\"Convert this dataframe to an interactive table.\"\n",
              "              style=\"display:none;\">\n",
              "        \n",
              "  <svg xmlns=\"http://www.w3.org/2000/svg\" height=\"24px\"viewBox=\"0 0 24 24\"\n",
              "       width=\"24px\">\n",
              "    <path d=\"M0 0h24v24H0V0z\" fill=\"none\"/>\n",
              "    <path d=\"M18.56 5.44l.94 2.06.94-2.06 2.06-.94-2.06-.94-.94-2.06-.94 2.06-2.06.94zm-11 1L8.5 8.5l.94-2.06 2.06-.94-2.06-.94L8.5 2.5l-.94 2.06-2.06.94zm10 10l.94 2.06.94-2.06 2.06-.94-2.06-.94-.94-2.06-.94 2.06-2.06.94z\"/><path d=\"M17.41 7.96l-1.37-1.37c-.4-.4-.92-.59-1.43-.59-.52 0-1.04.2-1.43.59L10.3 9.45l-7.72 7.72c-.78.78-.78 2.05 0 2.83L4 21.41c.39.39.9.59 1.41.59.51 0 1.02-.2 1.41-.59l7.78-7.78 2.81-2.81c.8-.78.8-2.07 0-2.86zM5.41 20L4 18.59l7.72-7.72 1.47 1.35L5.41 20z\"/>\n",
              "  </svg>\n",
              "      </button>\n",
              "      \n",
              "  <style>\n",
              "    .colab-df-container {\n",
              "      display:flex;\n",
              "      flex-wrap:wrap;\n",
              "      gap: 12px;\n",
              "    }\n",
              "\n",
              "    .colab-df-convert {\n",
              "      background-color: #E8F0FE;\n",
              "      border: none;\n",
              "      border-radius: 50%;\n",
              "      cursor: pointer;\n",
              "      display: none;\n",
              "      fill: #1967D2;\n",
              "      height: 32px;\n",
              "      padding: 0 0 0 0;\n",
              "      width: 32px;\n",
              "    }\n",
              "\n",
              "    .colab-df-convert:hover {\n",
              "      background-color: #E2EBFA;\n",
              "      box-shadow: 0px 1px 2px rgba(60, 64, 67, 0.3), 0px 1px 3px 1px rgba(60, 64, 67, 0.15);\n",
              "      fill: #174EA6;\n",
              "    }\n",
              "\n",
              "    [theme=dark] .colab-df-convert {\n",
              "      background-color: #3B4455;\n",
              "      fill: #D2E3FC;\n",
              "    }\n",
              "\n",
              "    [theme=dark] .colab-df-convert:hover {\n",
              "      background-color: #434B5C;\n",
              "      box-shadow: 0px 1px 3px 1px rgba(0, 0, 0, 0.15);\n",
              "      filter: drop-shadow(0px 1px 2px rgba(0, 0, 0, 0.3));\n",
              "      fill: #FFFFFF;\n",
              "    }\n",
              "  </style>\n",
              "\n",
              "      <script>\n",
              "        const buttonEl =\n",
              "          document.querySelector('#df-4ff2fc51-d70f-4499-8709-cde38fc9767e button.colab-df-convert');\n",
              "        buttonEl.style.display =\n",
              "          google.colab.kernel.accessAllowed ? 'block' : 'none';\n",
              "\n",
              "        async function convertToInteractive(key) {\n",
              "          const element = document.querySelector('#df-4ff2fc51-d70f-4499-8709-cde38fc9767e');\n",
              "          const dataTable =\n",
              "            await google.colab.kernel.invokeFunction('convertToInteractive',\n",
              "                                                     [key], {});\n",
              "          if (!dataTable) return;\n",
              "\n",
              "          const docLinkHtml = 'Like what you see? Visit the ' +\n",
              "            '<a target=\"_blank\" href=https://colab.research.google.com/notebooks/data_table.ipynb>data table notebook</a>'\n",
              "            + ' to learn more about interactive tables.';\n",
              "          element.innerHTML = '';\n",
              "          dataTable['output_type'] = 'display_data';\n",
              "          await google.colab.output.renderOutput(dataTable, element);\n",
              "          const docLink = document.createElement('div');\n",
              "          docLink.innerHTML = docLinkHtml;\n",
              "          element.appendChild(docLink);\n",
              "        }\n",
              "      </script>\n",
              "    </div>\n",
              "  </div>\n",
              "  "
            ]
          },
          "metadata": {},
          "execution_count": 156
        }
      ]
    },
    {
      "cell_type": "markdown",
      "source": [
        "# 1 Dividir en train y test (random state 42, tamaño de test 0.3). Variable a predecir y - has the client subscribed a term deposit? (binary: &#39;yes&#39;,&#39;no&#39;)\n"
      ],
      "metadata": {
        "id": "5V58AMKT5S7B"
      }
    },
    {
      "cell_type": "code",
      "source": [
        "train, test = train_test_split(df, test_size=0.3, random_state=42)"
      ],
      "metadata": {
        "id": "P4KYfqOP6LeP"
      },
      "execution_count": null,
      "outputs": []
    },
    {
      "cell_type": "code",
      "source": [
        "# Prediccion de variable y - has the client subscribed a term deposit?\n",
        "Y_train = train[\"y\"]\n",
        "Y_train"
      ],
      "metadata": {
        "colab": {
          "base_uri": "https://localhost:8080/"
        },
        "id": "HxPtcZte6lqo",
        "outputId": "e6b4d86e-0fd2-46f0-c2b4-85464f9eba20"
      },
      "execution_count": null,
      "outputs": [
        {
          "output_type": "execute_result",
          "data": {
            "text/plain": [
              "4153    no\n",
              "2085    no\n",
              "1891    no\n",
              "3611    no\n",
              "4015    no\n",
              "        ..\n",
              "4426    no\n",
              "466     no\n",
              "3092    no\n",
              "3772    no\n",
              "860     no\n",
              "Name: y, Length: 3164, dtype: object"
            ]
          },
          "metadata": {},
          "execution_count": 158
        }
      ]
    },
    {
      "cell_type": "markdown",
      "source": [
        "# 2 Crear transformación de imputación para cada uno de los tipos de variables.\n"
      ],
      "metadata": {
        "id": "rJHeMZIL5XBR"
      }
    },
    {
      "cell_type": "code",
      "source": [
        "# No es necesario una imputacion de datos ya que el DataFrame ya esta limpio.\n",
        "train.info()"
      ],
      "metadata": {
        "colab": {
          "base_uri": "https://localhost:8080/"
        },
        "id": "w9srB4zW7Q-0",
        "outputId": "b21360d2-9a8a-4dcb-cfe8-3b9aca4f0f77"
      },
      "execution_count": null,
      "outputs": [
        {
          "output_type": "stream",
          "name": "stdout",
          "text": [
            "<class 'pandas.core.frame.DataFrame'>\n",
            "Int64Index: 3164 entries, 4153 to 860\n",
            "Data columns (total 17 columns):\n",
            " #   Column     Non-Null Count  Dtype \n",
            "---  ------     --------------  ----- \n",
            " 0   age        3164 non-null   int64 \n",
            " 1   job        3164 non-null   object\n",
            " 2   marital    3164 non-null   object\n",
            " 3   education  3164 non-null   object\n",
            " 4   default    3164 non-null   object\n",
            " 5   balance    3164 non-null   int64 \n",
            " 6   housing    3164 non-null   object\n",
            " 7   loan       3164 non-null   object\n",
            " 8   contact    3164 non-null   object\n",
            " 9   day        3164 non-null   int64 \n",
            " 10  month      3164 non-null   object\n",
            " 11  duration   3164 non-null   int64 \n",
            " 12  campaign   3164 non-null   int64 \n",
            " 13  pdays      3164 non-null   int64 \n",
            " 14  previous   3164 non-null   int64 \n",
            " 15  poutcome   3164 non-null   object\n",
            " 16  y          3164 non-null   object\n",
            "dtypes: int64(7), object(10)\n",
            "memory usage: 444.9+ KB\n"
          ]
        }
      ]
    },
    {
      "cell_type": "code",
      "source": [
        "X_train = train"
      ],
      "metadata": {
        "id": "X5Uzftrr9ZSL"
      },
      "execution_count": null,
      "outputs": []
    },
    {
      "cell_type": "markdown",
      "source": [
        "# 3 Probar los respectivos escalados en los datos numéricos(maxMin,Standard, Robust)\n"
      ],
      "metadata": {
        "id": "5hOsUP1J5ZEL"
      }
    },
    {
      "cell_type": "code",
      "source": [
        "print(\"MinMaxScaler\")\n",
        "scaler = MinMaxScaler()\n",
        "X_Scaled = scaler.fit_transform(X_train[[\"age\", \"balance\", \"day\",\"duration\", \"campaign\", \"pdays\", \"previous\"]])\n",
        "X_Scaled"
      ],
      "metadata": {
        "colab": {
          "base_uri": "https://localhost:8080/"
        },
        "id": "M_q_u3el8NGR",
        "outputId": "ba1c8f55-61cc-4048-f6a4-a2fcebeb3e0a"
      },
      "execution_count": null,
      "outputs": [
        {
          "output_type": "stream",
          "name": "stdout",
          "text": [
            "MinMaxScaler\n"
          ]
        },
        {
          "output_type": "execute_result",
          "data": {
            "text/plain": [
              "array([[0.33823529, 0.07510737, 0.06666667, ..., 0.08163265, 0.        ,\n",
              "        0.        ],\n",
              "       [0.20588235, 0.0573441 , 0.9       , ..., 0.04081633, 0.        ,\n",
              "        0.        ],\n",
              "       [0.19117647, 0.08252878, 0.63333333, ..., 0.02040816, 0.        ,\n",
              "        0.        ],\n",
              "       ...,\n",
              "       [0.39705882, 0.07795911, 0.16666667, ..., 0.06122449, 0.42087156,\n",
              "        0.08333333],\n",
              "       [0.41176471, 0.07510737, 0.66666667, ..., 0.06122449, 0.        ,\n",
              "        0.        ],\n",
              "       [0.57352941, 0.07060643, 0.6       , ..., 0.02040816, 0.        ,\n",
              "        0.        ]])"
            ]
          },
          "metadata": {},
          "execution_count": 161
        }
      ]
    },
    {
      "cell_type": "code",
      "source": [
        "print(\"StandardScaler\")\n",
        "scaler1 = StandardScaler()\n",
        "Y_Scaled = scaler1.fit_transform(X_train[[\"age\", \"balance\", \"day\",\"duration\", \"campaign\", \"pdays\", \"previous\"]])\n",
        "Y_Scaled"
      ],
      "metadata": {
        "colab": {
          "base_uri": "https://localhost:8080/"
        },
        "id": "z5LOiVrh8O4w",
        "outputId": "49075638-fc7e-47df-c58c-78b2526539e4"
      },
      "execution_count": null,
      "outputs": [
        {
          "output_type": "stream",
          "name": "stdout",
          "text": [
            "StandardScaler\n"
          ]
        },
        {
          "output_type": "execute_result",
          "data": {
            "text/plain": [
              "array([[ 0.071992  , -0.35011973, -1.59025755, ...,  0.63116678,\n",
              "        -0.4062146 , -0.31601896],\n",
              "       [-0.77026116, -0.5392983 ,  1.45896002, ...,  0.03388498,\n",
              "        -0.4062146 , -0.31601896],\n",
              "       [-0.86384484, -0.27108188,  0.4832104 , ..., -0.26475592,\n",
              "        -0.4062146 , -0.31601896],\n",
              "       ...,\n",
              "       [ 0.44632674, -0.3197487 , -1.22435145, ...,  0.33252588,\n",
              "         3.35342197,  0.85206982],\n",
              "       [ 0.53991042, -0.35011973,  0.6051791 , ...,  0.33252588,\n",
              "        -0.4062146 , -0.31601896],\n",
              "       [ 1.56933095, -0.39805473,  0.36124169, ..., -0.26475592,\n",
              "        -0.4062146 , -0.31601896]])"
            ]
          },
          "metadata": {},
          "execution_count": 162
        }
      ]
    },
    {
      "cell_type": "code",
      "source": [
        "print(\"RobustScaler\")\n",
        "scaler2 = RobustScaler()\n",
        "Z_Scaled = scaler2.fit_transform(X_train[[\"age\", \"balance\", \"day\",\"duration\", \"campaign\", \"pdays\", \"previous\"]])\n",
        "Z_Scaled"
      ],
      "metadata": {
        "colab": {
          "base_uri": "https://localhost:8080/"
        },
        "id": "rEP-rqAM8Qpb",
        "outputId": "cba00de3-769f-4d33-db73-7e0c1ac373b6"
      },
      "execution_count": null,
      "outputs": [
        {
          "output_type": "stream",
          "name": "stdout",
          "text": [
            "RobustScaler\n"
          ]
        },
        {
          "output_type": "execute_result",
          "data": {
            "text/plain": [
              "array([[ 1.87500000e-01, -6.21439669e-03, -1.08333333e+00, ...,\n",
              "         1.50000000e+00,  0.00000000e+00,  0.00000000e+00],\n",
              "       [-3.75000000e-01, -3.63196962e-01,  1.00000000e+00, ...,\n",
              "         5.00000000e-01,  0.00000000e+00,  0.00000000e+00],\n",
              "       [-4.37500000e-01,  1.42931124e-01,  3.33333333e-01, ...,\n",
              "         0.00000000e+00,  0.00000000e+00,  0.00000000e+00],\n",
              "       ...,\n",
              "       [ 4.37500000e-01,  5.10961505e-02, -8.33333333e-01, ...,\n",
              "         1.00000000e+00,  3.67000000e+02,  2.00000000e+00],\n",
              "       [ 5.00000000e-01, -6.21439669e-03,  4.16666667e-01, ...,\n",
              "         1.00000000e+00,  0.00000000e+00,  0.00000000e+00],\n",
              "       [ 1.18750000e+00, -9.66683929e-02,  2.50000000e-01, ...,\n",
              "         0.00000000e+00,  0.00000000e+00,  0.00000000e+00]])"
            ]
          },
          "metadata": {},
          "execution_count": 163
        }
      ]
    },
    {
      "cell_type": "markdown",
      "source": [
        "# 4 Determinar la mejor transformación categórica(onehot vs ordinal).\n"
      ],
      "metadata": {
        "id": "5Wsbslub5ZU4"
      }
    },
    {
      "cell_type": "code",
      "source": [
        "encoder = OneHotEncoder(sparse=False)\n",
        "X_train[['single', 'married', 'divorced']] = encoder.fit_transform(X_train[[\"marital\"]])"
      ],
      "metadata": {
        "id": "wNADMRpr-sVg"
      },
      "execution_count": null,
      "outputs": []
    },
    {
      "cell_type": "code",
      "source": [
        "encoder.categories_"
      ],
      "metadata": {
        "colab": {
          "base_uri": "https://localhost:8080/"
        },
        "id": "_8KWvj6J-1-4",
        "outputId": "cc310491-0693-4093-bee8-09498da16efd"
      },
      "execution_count": null,
      "outputs": [
        {
          "output_type": "execute_result",
          "data": {
            "text/plain": [
              "[array(['divorced', 'married', 'single'], dtype=object)]"
            ]
          },
          "metadata": {},
          "execution_count": 165
        }
      ]
    },
    {
      "cell_type": "code",
      "source": [
        "X_train = X_train.drop([\"marital\"], axis=1)"
      ],
      "metadata": {
        "id": "mY9Ky4AV_6Fe"
      },
      "execution_count": null,
      "outputs": []
    },
    {
      "cell_type": "code",
      "source": [
        "X_train.head()"
      ],
      "metadata": {
        "colab": {
          "base_uri": "https://localhost:8080/"
        },
        "id": "9h2ugZtcAM-V",
        "outputId": "81223e1f-2dd1-4f6f-e5a7-086c64b132f3"
      },
      "execution_count": null,
      "outputs": [
        {
          "output_type": "execute_result",
          "data": {
            "text/plain": [
              "      age          job  education default  balance housing loan   contact  \\\n",
              "4153   42   technician  secondary      no      440     yes   no  cellular   \n",
              "2085   33  blue-collar  secondary      no      -77     yes   no  cellular   \n",
              "1891   32   management   tertiary      no      656     yes  yes  cellular   \n",
              "3611   28   technician  secondary      no      389     yes   no  cellular   \n",
              "4015   36   technician  secondary      no     5902     yes   no   unknown   \n",
              "\n",
              "      day month  duration  campaign  pdays  previous poutcome   y  single  \\\n",
              "4153    3   feb        13         5     -1         0  unknown  no     0.0   \n",
              "2085   28   jul       151         3     -1         0  unknown  no     0.0   \n",
              "1891   20   apr       148         2     -1         0  unknown  no     0.0   \n",
              "3611   11   may        15         7     -1         0  unknown  no     0.0   \n",
              "4015   23   may       219         4     -1         0  unknown  no     0.0   \n",
              "\n",
              "      married  divorced  \n",
              "4153      1.0       0.0  \n",
              "2085      1.0       0.0  \n",
              "1891      0.0       1.0  \n",
              "3611      0.0       1.0  \n",
              "4015      1.0       0.0  "
            ],
            "text/html": [
              "\n",
              "  <div id=\"df-4d81586d-8096-47ec-ad1c-7aa010d7b161\">\n",
              "    <div class=\"colab-df-container\">\n",
              "      <div>\n",
              "<style scoped>\n",
              "    .dataframe tbody tr th:only-of-type {\n",
              "        vertical-align: middle;\n",
              "    }\n",
              "\n",
              "    .dataframe tbody tr th {\n",
              "        vertical-align: top;\n",
              "    }\n",
              "\n",
              "    .dataframe thead th {\n",
              "        text-align: right;\n",
              "    }\n",
              "</style>\n",
              "<table border=\"1\" class=\"dataframe\">\n",
              "  <thead>\n",
              "    <tr style=\"text-align: right;\">\n",
              "      <th></th>\n",
              "      <th>age</th>\n",
              "      <th>job</th>\n",
              "      <th>education</th>\n",
              "      <th>default</th>\n",
              "      <th>balance</th>\n",
              "      <th>housing</th>\n",
              "      <th>loan</th>\n",
              "      <th>contact</th>\n",
              "      <th>day</th>\n",
              "      <th>month</th>\n",
              "      <th>duration</th>\n",
              "      <th>campaign</th>\n",
              "      <th>pdays</th>\n",
              "      <th>previous</th>\n",
              "      <th>poutcome</th>\n",
              "      <th>y</th>\n",
              "      <th>single</th>\n",
              "      <th>married</th>\n",
              "      <th>divorced</th>\n",
              "    </tr>\n",
              "  </thead>\n",
              "  <tbody>\n",
              "    <tr>\n",
              "      <th>4153</th>\n",
              "      <td>42</td>\n",
              "      <td>technician</td>\n",
              "      <td>secondary</td>\n",
              "      <td>no</td>\n",
              "      <td>440</td>\n",
              "      <td>yes</td>\n",
              "      <td>no</td>\n",
              "      <td>cellular</td>\n",
              "      <td>3</td>\n",
              "      <td>feb</td>\n",
              "      <td>13</td>\n",
              "      <td>5</td>\n",
              "      <td>-1</td>\n",
              "      <td>0</td>\n",
              "      <td>unknown</td>\n",
              "      <td>no</td>\n",
              "      <td>0.0</td>\n",
              "      <td>1.0</td>\n",
              "      <td>0.0</td>\n",
              "    </tr>\n",
              "    <tr>\n",
              "      <th>2085</th>\n",
              "      <td>33</td>\n",
              "      <td>blue-collar</td>\n",
              "      <td>secondary</td>\n",
              "      <td>no</td>\n",
              "      <td>-77</td>\n",
              "      <td>yes</td>\n",
              "      <td>no</td>\n",
              "      <td>cellular</td>\n",
              "      <td>28</td>\n",
              "      <td>jul</td>\n",
              "      <td>151</td>\n",
              "      <td>3</td>\n",
              "      <td>-1</td>\n",
              "      <td>0</td>\n",
              "      <td>unknown</td>\n",
              "      <td>no</td>\n",
              "      <td>0.0</td>\n",
              "      <td>1.0</td>\n",
              "      <td>0.0</td>\n",
              "    </tr>\n",
              "    <tr>\n",
              "      <th>1891</th>\n",
              "      <td>32</td>\n",
              "      <td>management</td>\n",
              "      <td>tertiary</td>\n",
              "      <td>no</td>\n",
              "      <td>656</td>\n",
              "      <td>yes</td>\n",
              "      <td>yes</td>\n",
              "      <td>cellular</td>\n",
              "      <td>20</td>\n",
              "      <td>apr</td>\n",
              "      <td>148</td>\n",
              "      <td>2</td>\n",
              "      <td>-1</td>\n",
              "      <td>0</td>\n",
              "      <td>unknown</td>\n",
              "      <td>no</td>\n",
              "      <td>0.0</td>\n",
              "      <td>0.0</td>\n",
              "      <td>1.0</td>\n",
              "    </tr>\n",
              "    <tr>\n",
              "      <th>3611</th>\n",
              "      <td>28</td>\n",
              "      <td>technician</td>\n",
              "      <td>secondary</td>\n",
              "      <td>no</td>\n",
              "      <td>389</td>\n",
              "      <td>yes</td>\n",
              "      <td>no</td>\n",
              "      <td>cellular</td>\n",
              "      <td>11</td>\n",
              "      <td>may</td>\n",
              "      <td>15</td>\n",
              "      <td>7</td>\n",
              "      <td>-1</td>\n",
              "      <td>0</td>\n",
              "      <td>unknown</td>\n",
              "      <td>no</td>\n",
              "      <td>0.0</td>\n",
              "      <td>0.0</td>\n",
              "      <td>1.0</td>\n",
              "    </tr>\n",
              "    <tr>\n",
              "      <th>4015</th>\n",
              "      <td>36</td>\n",
              "      <td>technician</td>\n",
              "      <td>secondary</td>\n",
              "      <td>no</td>\n",
              "      <td>5902</td>\n",
              "      <td>yes</td>\n",
              "      <td>no</td>\n",
              "      <td>unknown</td>\n",
              "      <td>23</td>\n",
              "      <td>may</td>\n",
              "      <td>219</td>\n",
              "      <td>4</td>\n",
              "      <td>-1</td>\n",
              "      <td>0</td>\n",
              "      <td>unknown</td>\n",
              "      <td>no</td>\n",
              "      <td>0.0</td>\n",
              "      <td>1.0</td>\n",
              "      <td>0.0</td>\n",
              "    </tr>\n",
              "  </tbody>\n",
              "</table>\n",
              "</div>\n",
              "      <button class=\"colab-df-convert\" onclick=\"convertToInteractive('df-4d81586d-8096-47ec-ad1c-7aa010d7b161')\"\n",
              "              title=\"Convert this dataframe to an interactive table.\"\n",
              "              style=\"display:none;\">\n",
              "        \n",
              "  <svg xmlns=\"http://www.w3.org/2000/svg\" height=\"24px\"viewBox=\"0 0 24 24\"\n",
              "       width=\"24px\">\n",
              "    <path d=\"M0 0h24v24H0V0z\" fill=\"none\"/>\n",
              "    <path d=\"M18.56 5.44l.94 2.06.94-2.06 2.06-.94-2.06-.94-.94-2.06-.94 2.06-2.06.94zm-11 1L8.5 8.5l.94-2.06 2.06-.94-2.06-.94L8.5 2.5l-.94 2.06-2.06.94zm10 10l.94 2.06.94-2.06 2.06-.94-2.06-.94-.94-2.06-.94 2.06-2.06.94z\"/><path d=\"M17.41 7.96l-1.37-1.37c-.4-.4-.92-.59-1.43-.59-.52 0-1.04.2-1.43.59L10.3 9.45l-7.72 7.72c-.78.78-.78 2.05 0 2.83L4 21.41c.39.39.9.59 1.41.59.51 0 1.02-.2 1.41-.59l7.78-7.78 2.81-2.81c.8-.78.8-2.07 0-2.86zM5.41 20L4 18.59l7.72-7.72 1.47 1.35L5.41 20z\"/>\n",
              "  </svg>\n",
              "      </button>\n",
              "      \n",
              "  <style>\n",
              "    .colab-df-container {\n",
              "      display:flex;\n",
              "      flex-wrap:wrap;\n",
              "      gap: 12px;\n",
              "    }\n",
              "\n",
              "    .colab-df-convert {\n",
              "      background-color: #E8F0FE;\n",
              "      border: none;\n",
              "      border-radius: 50%;\n",
              "      cursor: pointer;\n",
              "      display: none;\n",
              "      fill: #1967D2;\n",
              "      height: 32px;\n",
              "      padding: 0 0 0 0;\n",
              "      width: 32px;\n",
              "    }\n",
              "\n",
              "    .colab-df-convert:hover {\n",
              "      background-color: #E2EBFA;\n",
              "      box-shadow: 0px 1px 2px rgba(60, 64, 67, 0.3), 0px 1px 3px 1px rgba(60, 64, 67, 0.15);\n",
              "      fill: #174EA6;\n",
              "    }\n",
              "\n",
              "    [theme=dark] .colab-df-convert {\n",
              "      background-color: #3B4455;\n",
              "      fill: #D2E3FC;\n",
              "    }\n",
              "\n",
              "    [theme=dark] .colab-df-convert:hover {\n",
              "      background-color: #434B5C;\n",
              "      box-shadow: 0px 1px 3px 1px rgba(0, 0, 0, 0.15);\n",
              "      filter: drop-shadow(0px 1px 2px rgba(0, 0, 0, 0.3));\n",
              "      fill: #FFFFFF;\n",
              "    }\n",
              "  </style>\n",
              "\n",
              "      <script>\n",
              "        const buttonEl =\n",
              "          document.querySelector('#df-4d81586d-8096-47ec-ad1c-7aa010d7b161 button.colab-df-convert');\n",
              "        buttonEl.style.display =\n",
              "          google.colab.kernel.accessAllowed ? 'block' : 'none';\n",
              "\n",
              "        async function convertToInteractive(key) {\n",
              "          const element = document.querySelector('#df-4d81586d-8096-47ec-ad1c-7aa010d7b161');\n",
              "          const dataTable =\n",
              "            await google.colab.kernel.invokeFunction('convertToInteractive',\n",
              "                                                     [key], {});\n",
              "          if (!dataTable) return;\n",
              "\n",
              "          const docLinkHtml = 'Like what you see? Visit the ' +\n",
              "            '<a target=\"_blank\" href=https://colab.research.google.com/notebooks/data_table.ipynb>data table notebook</a>'\n",
              "            + ' to learn more about interactive tables.';\n",
              "          element.innerHTML = '';\n",
              "          dataTable['output_type'] = 'display_data';\n",
              "          await google.colab.output.renderOutput(dataTable, element);\n",
              "          const docLink = document.createElement('div');\n",
              "          docLink.innerHTML = docLinkHtml;\n",
              "          element.appendChild(docLink);\n",
              "        }\n",
              "      </script>\n",
              "    </div>\n",
              "  </div>\n",
              "  "
            ]
          },
          "metadata": {},
          "execution_count": 167
        }
      ]
    },
    {
      "cell_type": "code",
      "source": [
        "ordinal = OrdinalEncoder(categories=[[\"no\", \"yes\"]])\n",
        "X_train[[\"default\"]] = ordinal.fit_transform(X_train[[\"default\"]])"
      ],
      "metadata": {
        "id": "mvhkqalP-6_-"
      },
      "execution_count": null,
      "outputs": []
    },
    {
      "cell_type": "code",
      "source": [
        "ordinal = OrdinalEncoder(categories=[[\"no\", \"yes\"]])\n",
        "X_train[[\"housing\"]] = ordinal.fit_transform(X_train[[\"housing\"]])"
      ],
      "metadata": {
        "id": "Isd34n9pCDsu"
      },
      "execution_count": null,
      "outputs": []
    },
    {
      "cell_type": "code",
      "source": [
        "ordinal = OrdinalEncoder(categories=[[\"no\", \"yes\"]])\n",
        "X_train[[\"loan\"]] = ordinal.fit_transform(X_train[[\"loan\"]])"
      ],
      "metadata": {
        "id": "8ml_8n3kCJsi"
      },
      "execution_count": null,
      "outputs": []
    },
    {
      "cell_type": "code",
      "source": [
        "ordinal.categories_"
      ],
      "metadata": {
        "colab": {
          "base_uri": "https://localhost:8080/"
        },
        "id": "IXjqNnDj-86w",
        "outputId": "4a4c61ba-b179-40f8-de76-c10958a302c9"
      },
      "execution_count": null,
      "outputs": [
        {
          "output_type": "execute_result",
          "data": {
            "text/plain": [
              "[array(['no', 'yes'], dtype=object)]"
            ]
          },
          "metadata": {},
          "execution_count": 171
        }
      ]
    },
    {
      "cell_type": "code",
      "source": [
        "X_train.head()"
      ],
      "metadata": {
        "colab": {
          "base_uri": "https://localhost:8080/"
        },
        "id": "YMYbAWK2CQbq",
        "outputId": "d0c39b3d-ce57-4e54-af21-7b1d4b8f3b68"
      },
      "execution_count": null,
      "outputs": [
        {
          "output_type": "execute_result",
          "data": {
            "text/plain": [
              "      age          job  education  default  balance  housing  loan   contact  \\\n",
              "4153   42   technician  secondary      0.0      440      1.0   0.0  cellular   \n",
              "2085   33  blue-collar  secondary      0.0      -77      1.0   0.0  cellular   \n",
              "1891   32   management   tertiary      0.0      656      1.0   1.0  cellular   \n",
              "3611   28   technician  secondary      0.0      389      1.0   0.0  cellular   \n",
              "4015   36   technician  secondary      0.0     5902      1.0   0.0   unknown   \n",
              "\n",
              "      day month  duration  campaign  pdays  previous poutcome   y  single  \\\n",
              "4153    3   feb        13         5     -1         0  unknown  no     0.0   \n",
              "2085   28   jul       151         3     -1         0  unknown  no     0.0   \n",
              "1891   20   apr       148         2     -1         0  unknown  no     0.0   \n",
              "3611   11   may        15         7     -1         0  unknown  no     0.0   \n",
              "4015   23   may       219         4     -1         0  unknown  no     0.0   \n",
              "\n",
              "      married  divorced  \n",
              "4153      1.0       0.0  \n",
              "2085      1.0       0.0  \n",
              "1891      0.0       1.0  \n",
              "3611      0.0       1.0  \n",
              "4015      1.0       0.0  "
            ],
            "text/html": [
              "\n",
              "  <div id=\"df-eb731ba8-17ed-40e4-b9ab-a8aae3337441\">\n",
              "    <div class=\"colab-df-container\">\n",
              "      <div>\n",
              "<style scoped>\n",
              "    .dataframe tbody tr th:only-of-type {\n",
              "        vertical-align: middle;\n",
              "    }\n",
              "\n",
              "    .dataframe tbody tr th {\n",
              "        vertical-align: top;\n",
              "    }\n",
              "\n",
              "    .dataframe thead th {\n",
              "        text-align: right;\n",
              "    }\n",
              "</style>\n",
              "<table border=\"1\" class=\"dataframe\">\n",
              "  <thead>\n",
              "    <tr style=\"text-align: right;\">\n",
              "      <th></th>\n",
              "      <th>age</th>\n",
              "      <th>job</th>\n",
              "      <th>education</th>\n",
              "      <th>default</th>\n",
              "      <th>balance</th>\n",
              "      <th>housing</th>\n",
              "      <th>loan</th>\n",
              "      <th>contact</th>\n",
              "      <th>day</th>\n",
              "      <th>month</th>\n",
              "      <th>duration</th>\n",
              "      <th>campaign</th>\n",
              "      <th>pdays</th>\n",
              "      <th>previous</th>\n",
              "      <th>poutcome</th>\n",
              "      <th>y</th>\n",
              "      <th>single</th>\n",
              "      <th>married</th>\n",
              "      <th>divorced</th>\n",
              "    </tr>\n",
              "  </thead>\n",
              "  <tbody>\n",
              "    <tr>\n",
              "      <th>4153</th>\n",
              "      <td>42</td>\n",
              "      <td>technician</td>\n",
              "      <td>secondary</td>\n",
              "      <td>0.0</td>\n",
              "      <td>440</td>\n",
              "      <td>1.0</td>\n",
              "      <td>0.0</td>\n",
              "      <td>cellular</td>\n",
              "      <td>3</td>\n",
              "      <td>feb</td>\n",
              "      <td>13</td>\n",
              "      <td>5</td>\n",
              "      <td>-1</td>\n",
              "      <td>0</td>\n",
              "      <td>unknown</td>\n",
              "      <td>no</td>\n",
              "      <td>0.0</td>\n",
              "      <td>1.0</td>\n",
              "      <td>0.0</td>\n",
              "    </tr>\n",
              "    <tr>\n",
              "      <th>2085</th>\n",
              "      <td>33</td>\n",
              "      <td>blue-collar</td>\n",
              "      <td>secondary</td>\n",
              "      <td>0.0</td>\n",
              "      <td>-77</td>\n",
              "      <td>1.0</td>\n",
              "      <td>0.0</td>\n",
              "      <td>cellular</td>\n",
              "      <td>28</td>\n",
              "      <td>jul</td>\n",
              "      <td>151</td>\n",
              "      <td>3</td>\n",
              "      <td>-1</td>\n",
              "      <td>0</td>\n",
              "      <td>unknown</td>\n",
              "      <td>no</td>\n",
              "      <td>0.0</td>\n",
              "      <td>1.0</td>\n",
              "      <td>0.0</td>\n",
              "    </tr>\n",
              "    <tr>\n",
              "      <th>1891</th>\n",
              "      <td>32</td>\n",
              "      <td>management</td>\n",
              "      <td>tertiary</td>\n",
              "      <td>0.0</td>\n",
              "      <td>656</td>\n",
              "      <td>1.0</td>\n",
              "      <td>1.0</td>\n",
              "      <td>cellular</td>\n",
              "      <td>20</td>\n",
              "      <td>apr</td>\n",
              "      <td>148</td>\n",
              "      <td>2</td>\n",
              "      <td>-1</td>\n",
              "      <td>0</td>\n",
              "      <td>unknown</td>\n",
              "      <td>no</td>\n",
              "      <td>0.0</td>\n",
              "      <td>0.0</td>\n",
              "      <td>1.0</td>\n",
              "    </tr>\n",
              "    <tr>\n",
              "      <th>3611</th>\n",
              "      <td>28</td>\n",
              "      <td>technician</td>\n",
              "      <td>secondary</td>\n",
              "      <td>0.0</td>\n",
              "      <td>389</td>\n",
              "      <td>1.0</td>\n",
              "      <td>0.0</td>\n",
              "      <td>cellular</td>\n",
              "      <td>11</td>\n",
              "      <td>may</td>\n",
              "      <td>15</td>\n",
              "      <td>7</td>\n",
              "      <td>-1</td>\n",
              "      <td>0</td>\n",
              "      <td>unknown</td>\n",
              "      <td>no</td>\n",
              "      <td>0.0</td>\n",
              "      <td>0.0</td>\n",
              "      <td>1.0</td>\n",
              "    </tr>\n",
              "    <tr>\n",
              "      <th>4015</th>\n",
              "      <td>36</td>\n",
              "      <td>technician</td>\n",
              "      <td>secondary</td>\n",
              "      <td>0.0</td>\n",
              "      <td>5902</td>\n",
              "      <td>1.0</td>\n",
              "      <td>0.0</td>\n",
              "      <td>unknown</td>\n",
              "      <td>23</td>\n",
              "      <td>may</td>\n",
              "      <td>219</td>\n",
              "      <td>4</td>\n",
              "      <td>-1</td>\n",
              "      <td>0</td>\n",
              "      <td>unknown</td>\n",
              "      <td>no</td>\n",
              "      <td>0.0</td>\n",
              "      <td>1.0</td>\n",
              "      <td>0.0</td>\n",
              "    </tr>\n",
              "  </tbody>\n",
              "</table>\n",
              "</div>\n",
              "      <button class=\"colab-df-convert\" onclick=\"convertToInteractive('df-eb731ba8-17ed-40e4-b9ab-a8aae3337441')\"\n",
              "              title=\"Convert this dataframe to an interactive table.\"\n",
              "              style=\"display:none;\">\n",
              "        \n",
              "  <svg xmlns=\"http://www.w3.org/2000/svg\" height=\"24px\"viewBox=\"0 0 24 24\"\n",
              "       width=\"24px\">\n",
              "    <path d=\"M0 0h24v24H0V0z\" fill=\"none\"/>\n",
              "    <path d=\"M18.56 5.44l.94 2.06.94-2.06 2.06-.94-2.06-.94-.94-2.06-.94 2.06-2.06.94zm-11 1L8.5 8.5l.94-2.06 2.06-.94-2.06-.94L8.5 2.5l-.94 2.06-2.06.94zm10 10l.94 2.06.94-2.06 2.06-.94-2.06-.94-.94-2.06-.94 2.06-2.06.94z\"/><path d=\"M17.41 7.96l-1.37-1.37c-.4-.4-.92-.59-1.43-.59-.52 0-1.04.2-1.43.59L10.3 9.45l-7.72 7.72c-.78.78-.78 2.05 0 2.83L4 21.41c.39.39.9.59 1.41.59.51 0 1.02-.2 1.41-.59l7.78-7.78 2.81-2.81c.8-.78.8-2.07 0-2.86zM5.41 20L4 18.59l7.72-7.72 1.47 1.35L5.41 20z\"/>\n",
              "  </svg>\n",
              "      </button>\n",
              "      \n",
              "  <style>\n",
              "    .colab-df-container {\n",
              "      display:flex;\n",
              "      flex-wrap:wrap;\n",
              "      gap: 12px;\n",
              "    }\n",
              "\n",
              "    .colab-df-convert {\n",
              "      background-color: #E8F0FE;\n",
              "      border: none;\n",
              "      border-radius: 50%;\n",
              "      cursor: pointer;\n",
              "      display: none;\n",
              "      fill: #1967D2;\n",
              "      height: 32px;\n",
              "      padding: 0 0 0 0;\n",
              "      width: 32px;\n",
              "    }\n",
              "\n",
              "    .colab-df-convert:hover {\n",
              "      background-color: #E2EBFA;\n",
              "      box-shadow: 0px 1px 2px rgba(60, 64, 67, 0.3), 0px 1px 3px 1px rgba(60, 64, 67, 0.15);\n",
              "      fill: #174EA6;\n",
              "    }\n",
              "\n",
              "    [theme=dark] .colab-df-convert {\n",
              "      background-color: #3B4455;\n",
              "      fill: #D2E3FC;\n",
              "    }\n",
              "\n",
              "    [theme=dark] .colab-df-convert:hover {\n",
              "      background-color: #434B5C;\n",
              "      box-shadow: 0px 1px 3px 1px rgba(0, 0, 0, 0.15);\n",
              "      filter: drop-shadow(0px 1px 2px rgba(0, 0, 0, 0.3));\n",
              "      fill: #FFFFFF;\n",
              "    }\n",
              "  </style>\n",
              "\n",
              "      <script>\n",
              "        const buttonEl =\n",
              "          document.querySelector('#df-eb731ba8-17ed-40e4-b9ab-a8aae3337441 button.colab-df-convert');\n",
              "        buttonEl.style.display =\n",
              "          google.colab.kernel.accessAllowed ? 'block' : 'none';\n",
              "\n",
              "        async function convertToInteractive(key) {\n",
              "          const element = document.querySelector('#df-eb731ba8-17ed-40e4-b9ab-a8aae3337441');\n",
              "          const dataTable =\n",
              "            await google.colab.kernel.invokeFunction('convertToInteractive',\n",
              "                                                     [key], {});\n",
              "          if (!dataTable) return;\n",
              "\n",
              "          const docLinkHtml = 'Like what you see? Visit the ' +\n",
              "            '<a target=\"_blank\" href=https://colab.research.google.com/notebooks/data_table.ipynb>data table notebook</a>'\n",
              "            + ' to learn more about interactive tables.';\n",
              "          element.innerHTML = '';\n",
              "          dataTable['output_type'] = 'display_data';\n",
              "          await google.colab.output.renderOutput(dataTable, element);\n",
              "          const docLink = document.createElement('div');\n",
              "          docLink.innerHTML = docLinkHtml;\n",
              "          element.appendChild(docLink);\n",
              "        }\n",
              "      </script>\n",
              "    </div>\n",
              "  </div>\n",
              "  "
            ]
          },
          "metadata": {},
          "execution_count": 172
        }
      ]
    },
    {
      "cell_type": "markdown",
      "source": [
        "# 5 Hacer la distribución de las variables numéricas más Gaussianas.\n"
      ],
      "metadata": {
        "id": "ZjmxUZe25ZpH"
      }
    },
    {
      "cell_type": "code",
      "source": [
        "# las variables balance, pdays, previous no son aceptadas en el fit_transform por tener datos negativos\n",
        "pt = PowerTransformer(method=\"box-cox\", standardize=False)\n",
        "print(pt.fit_transform((train[[\"age\",\"day\",\"duration\",\"campaign\"]].to_numpy())))"
      ],
      "metadata": {
        "colab": {
          "base_uri": "https://localhost:8080/"
        },
        "id": "crTJkf_8ECGB",
        "outputId": "7da76c47-b542-4a52-ef68-97b3485e0fbb"
      },
      "execution_count": null,
      "outputs": [
        {
          "output_type": "stream",
          "name": "stdout",
          "text": [
            "[[ 2.57830555  1.67492017  3.16919646  1.04922398]\n",
            " [ 2.4665665  13.92301141  7.68754418  0.81413414]\n",
            " [ 2.45189208 10.62704177  7.64293962  0.57152603]\n",
            " ...\n",
            " [ 2.61898924  3.65878317  6.90168587  0.95496794]\n",
            " [ 2.62849257 11.05689428  6.10476459  0.95496794]\n",
            " [ 2.71916398 10.19113599  7.76025657  0.57152603]]\n"
          ]
        }
      ]
    },
    {
      "cell_type": "markdown",
      "source": [
        "#6 Crear un pipeline Numérico y otro Categórico. Unir ambos en un solo pipeline usando ColumnTransformer.\n"
      ],
      "metadata": {
        "id": "79caGdnM5Z7z"
      }
    },
    {
      "cell_type": "code",
      "source": [
        "pipeline = Pipeline([(\"imputar\", SimpleImputer(strategy=\"most_frequent\")),\n",
        "                     (\"categorico_a_num\", OneHotEncoder(sparse=False))])"
      ],
      "metadata": {
        "id": "v5m2KioSJa7Y"
      },
      "execution_count": null,
      "outputs": []
    },
    {
      "cell_type": "code",
      "source": [
        "pipeline.fit(X_train[[\"education\"]])"
      ],
      "metadata": {
        "colab": {
          "base_uri": "https://localhost:8080/"
        },
        "id": "SS7bAfLuJxHJ",
        "outputId": "87045a33-74de-4e11-ad79-20c8af4bff86"
      },
      "execution_count": null,
      "outputs": [
        {
          "output_type": "execute_result",
          "data": {
            "text/plain": [
              "Pipeline(steps=[('imputar', SimpleImputer(strategy='most_frequent')),\n",
              "                ('categorico_a_num', OneHotEncoder(sparse=False))])"
            ]
          },
          "metadata": {},
          "execution_count": 175
        }
      ]
    },
    {
      "cell_type": "code",
      "source": [
        "pipeline.transform(X_train[[\"education\"]])"
      ],
      "metadata": {
        "colab": {
          "base_uri": "https://localhost:8080/"
        },
        "id": "fAuhnpjTJzTb",
        "outputId": "2c238d11-d0dc-4811-baed-65e3254806c9"
      },
      "execution_count": null,
      "outputs": [
        {
          "output_type": "execute_result",
          "data": {
            "text/plain": [
              "array([[0., 1., 0., 0.],\n",
              "       [0., 1., 0., 0.],\n",
              "       [0., 0., 1., 0.],\n",
              "       ...,\n",
              "       [0., 0., 1., 0.],\n",
              "       [0., 0., 1., 0.],\n",
              "       [1., 0., 0., 0.]])"
            ]
          },
          "metadata": {},
          "execution_count": 176
        }
      ]
    },
    {
      "cell_type": "code",
      "source": [
        "pipeline.steps[1][1].categories_"
      ],
      "metadata": {
        "colab": {
          "base_uri": "https://localhost:8080/"
        },
        "id": "rqO_qA4hJ1D9",
        "outputId": "a7640665-0e4b-4b59-eae9-ab1ffc92a416"
      },
      "execution_count": null,
      "outputs": [
        {
          "output_type": "execute_result",
          "data": {
            "text/plain": [
              "[array(['primary', 'secondary', 'tertiary', 'unknown'], dtype=object)]"
            ]
          },
          "metadata": {},
          "execution_count": 177
        }
      ]
    },
    {
      "cell_type": "code",
      "source": [
        "pipeline_numeric = Pipeline([(\"imputar\", SimpleImputer(strategy=\"mean\")),\n",
        "                     (\"escalado\", StandardScaler())])"
      ],
      "metadata": {
        "id": "xuPJGUFDJ2zr"
      },
      "execution_count": null,
      "outputs": []
    },
    {
      "cell_type": "markdown",
      "source": [
        "# 7 Seleccionar variables más importantes y eliminar las restantes en el pipeline.\n"
      ],
      "metadata": {
        "id": "pahLruB55hxO"
      }
    },
    {
      "cell_type": "code",
      "source": [
        "X_train.info()"
      ],
      "metadata": {
        "colab": {
          "base_uri": "https://localhost:8080/"
        },
        "id": "6L273fISLfuv",
        "outputId": "fae375fe-2e4f-469a-c91e-088f85b16981"
      },
      "execution_count": null,
      "outputs": [
        {
          "output_type": "stream",
          "name": "stdout",
          "text": [
            "<class 'pandas.core.frame.DataFrame'>\n",
            "Int64Index: 3164 entries, 4153 to 860\n",
            "Data columns (total 19 columns):\n",
            " #   Column     Non-Null Count  Dtype  \n",
            "---  ------     --------------  -----  \n",
            " 0   age        3164 non-null   int64  \n",
            " 1   job        3164 non-null   object \n",
            " 2   education  3164 non-null   object \n",
            " 3   default    3164 non-null   float64\n",
            " 4   balance    3164 non-null   int64  \n",
            " 5   housing    3164 non-null   float64\n",
            " 6   loan       3164 non-null   float64\n",
            " 7   contact    3164 non-null   object \n",
            " 8   day        3164 non-null   int64  \n",
            " 9   month      3164 non-null   object \n",
            " 10  duration   3164 non-null   int64  \n",
            " 11  campaign   3164 non-null   int64  \n",
            " 12  pdays      3164 non-null   int64  \n",
            " 13  previous   3164 non-null   int64  \n",
            " 14  poutcome   3164 non-null   object \n",
            " 15  y          3164 non-null   object \n",
            " 16  single     3164 non-null   float64\n",
            " 17  married    3164 non-null   float64\n",
            " 18  divorced   3164 non-null   float64\n",
            "dtypes: float64(6), int64(7), object(6)\n",
            "memory usage: 494.4+ KB\n"
          ]
        }
      ]
    },
    {
      "cell_type": "code",
      "source": [
        "column_transformer = ColumnTransformer([(\"Eliminar\", \"drop\", [3,5,6,16,17,18]),\n",
        "                                       (\"Pipeline_numerico\", pipeline_numeric, [0,4,8,10,11,12,13]),\n",
        "                                       (\"Pipeline_categorico\", pipeline, [1,2,7,9,14])])"
      ],
      "metadata": {
        "id": "9Leb4_C1J5rD"
      },
      "execution_count": null,
      "outputs": []
    },
    {
      "cell_type": "code",
      "source": [
        "column_transformer.fit(X_train)"
      ],
      "metadata": {
        "colab": {
          "base_uri": "https://localhost:8080/"
        },
        "id": "uFwNKbhtJ7mY",
        "outputId": "9a74eef9-452d-4acb-ba7f-dc35c27bbfe2"
      },
      "execution_count": null,
      "outputs": [
        {
          "output_type": "execute_result",
          "data": {
            "text/plain": [
              "ColumnTransformer(transformers=[('Eliminar', 'drop', [3, 5, 6, 16, 17, 18]),\n",
              "                                ('Pipeline_numerico',\n",
              "                                 Pipeline(steps=[('imputar', SimpleImputer()),\n",
              "                                                 ('escalado',\n",
              "                                                  StandardScaler())]),\n",
              "                                 [0, 4, 8, 10, 11, 12, 13]),\n",
              "                                ('Pipeline_categorico',\n",
              "                                 Pipeline(steps=[('imputar',\n",
              "                                                  SimpleImputer(strategy='most_frequent')),\n",
              "                                                 ('categorico_a_num',\n",
              "                                                  OneHotEncoder(sparse=False))]),\n",
              "                                 [1, 2, 7, 9, 14])])"
            ]
          },
          "metadata": {},
          "execution_count": 181
        }
      ]
    },
    {
      "cell_type": "markdown",
      "source": [
        "# 8 Utilizar un modelo de RegresionLogística() para predecir la variable: y - has the client subscribed a term deposit? (binary: &#39;yes&#39;,&#39;no&#39;) - Usar validación cruzada de cv=10 y scoring=” accuracy” from sklearn.linear_model import LogisticRegression\n"
      ],
      "metadata": {
        "id": "XJzp28YI5jOk"
      }
    },
    {
      "cell_type": "code",
      "source": [
        "Z_train = column_transformer.transform(X_train)"
      ],
      "metadata": {
        "id": "vUpt8WT0OYiY"
      },
      "execution_count": null,
      "outputs": []
    },
    {
      "cell_type": "code",
      "source": [
        "resultado = cross_validate(LogisticRegression(), Z_train, Y_train, scoring=[\"accuracy\"], cv=10)"
      ],
      "metadata": {
        "id": "rW0a9dUbOedA"
      },
      "execution_count": null,
      "outputs": []
    },
    {
      "cell_type": "code",
      "source": [
        "print(\"mean={}\".format(resultado[\"test_accuracy\"].mean()*100), \"std={}\".format(resultado[\"test_accuracy\"].std()*100))"
      ],
      "metadata": {
        "colab": {
          "base_uri": "https://localhost:8080/"
        },
        "id": "kFaeCuYvPLE3",
        "outputId": "41ae8578-c6a1-4c5b-82b3-e4c701def73f"
      },
      "execution_count": null,
      "outputs": [
        {
          "output_type": "stream",
          "name": "stdout",
          "text": [
            "mean=90.61234676356668 std=1.0647317209914633\n"
          ]
        }
      ]
    },
    {
      "cell_type": "markdown",
      "source": [
        "# 9 Iterar el proceso mínimo 2 veces(variando las transformaciones) buscando mejorar el rendimiento.\n"
      ],
      "metadata": {
        "id": "wBfswJUr5l2Q"
      }
    },
    {
      "cell_type": "markdown",
      "source": [
        "Transformacion KNNImputer"
      ],
      "metadata": {
        "id": "fRRCyFSqTm8k"
      }
    },
    {
      "cell_type": "code",
      "source": [
        "pipeline_numeric2 = Pipeline([(\"imputar\", KNNImputer()),\n",
        "                     (\"escalado\", StandardScaler())])"
      ],
      "metadata": {
        "id": "uUwbbLFNP4wA"
      },
      "execution_count": null,
      "outputs": []
    },
    {
      "cell_type": "code",
      "source": [
        "column_transformer2 = ColumnTransformer([(\"Eliminar\", \"drop\", [3,5,6,16,17,18]),\n",
        "                                       (\"Pipeline_numerico2\", pipeline_numeric2, [0,4,8,10,11,12,13]),\n",
        "                                       (\"Pipeline_categorico2\", pipeline, [1,2,7,9,14])])"
      ],
      "metadata": {
        "id": "Wg6Mc-VFQLbp"
      },
      "execution_count": null,
      "outputs": []
    },
    {
      "cell_type": "code",
      "source": [
        "column_transformer2.fit(X_train)"
      ],
      "metadata": {
        "colab": {
          "base_uri": "https://localhost:8080/"
        },
        "id": "6rj-OeFFQVzN",
        "outputId": "114d194e-ce58-466c-9943-ce3a10a81cf0"
      },
      "execution_count": null,
      "outputs": [
        {
          "output_type": "execute_result",
          "data": {
            "text/plain": [
              "ColumnTransformer(transformers=[('Eliminar', 'drop', [3, 5, 6, 16, 17, 18]),\n",
              "                                ('Pipeline_numerico2',\n",
              "                                 Pipeline(steps=[('imputar', KNNImputer()),\n",
              "                                                 ('escalado',\n",
              "                                                  StandardScaler())]),\n",
              "                                 [0, 4, 8, 10, 11, 12, 13]),\n",
              "                                ('Pipeline_categorico2',\n",
              "                                 Pipeline(steps=[('imputar',\n",
              "                                                  SimpleImputer(strategy='most_frequent')),\n",
              "                                                 ('categorico_a_num',\n",
              "                                                  OneHotEncoder(sparse=False))]),\n",
              "                                 [1, 2, 7, 9, 14])])"
            ]
          },
          "metadata": {},
          "execution_count": 187
        }
      ]
    },
    {
      "cell_type": "code",
      "source": [
        "Z_train = column_transformer2.transform(X_train)"
      ],
      "metadata": {
        "id": "LmVdCpE8TBJJ"
      },
      "execution_count": null,
      "outputs": []
    },
    {
      "cell_type": "code",
      "source": [
        "resultado2 = cross_validate(LogisticRegression(), Z_train, Y_train, scoring=[\"accuracy\"], cv=10)"
      ],
      "metadata": {
        "id": "exwf6A5tTKEi"
      },
      "execution_count": null,
      "outputs": []
    },
    {
      "cell_type": "code",
      "source": [
        "print(\"mean={}\".format(resultado2[\"test_accuracy\"].mean()*100), \"std={}\".format(resultado2[\"test_accuracy\"].std()*100))"
      ],
      "metadata": {
        "colab": {
          "base_uri": "https://localhost:8080/"
        },
        "id": "StKxNZndTMYW",
        "outputId": "4f0f4653-bc27-49b6-be1d-9a1b9f83402f"
      },
      "execution_count": null,
      "outputs": [
        {
          "output_type": "stream",
          "name": "stdout",
          "text": [
            "mean=90.61234676356668 std=1.0647317209914633\n"
          ]
        }
      ]
    },
    {
      "cell_type": "markdown",
      "source": [
        "Transformacion IterativeImputer"
      ],
      "metadata": {
        "id": "e2m0H1KZVo7d"
      }
    },
    {
      "cell_type": "code",
      "source": [
        "pipeline_numeric3 = Pipeline([(\"imputar\", IterativeImputer()),\n",
        "                     (\"escalado\", StandardScaler())])"
      ],
      "metadata": {
        "id": "aF3rHGQfVswZ"
      },
      "execution_count": null,
      "outputs": []
    },
    {
      "cell_type": "code",
      "source": [
        "column_transformer3 = ColumnTransformer([(\"Eliminar\", \"drop\", [3,5,6,16,17,18]),\n",
        "                                       (\"Pipeline_numerico2\", pipeline_numeric3, [0,4,8,10,11,12,13]),\n",
        "                                       (\"Pipeline_categorico2\", pipeline, [1,2,7,9,14])])"
      ],
      "metadata": {
        "id": "-H8JWF6jVvl_"
      },
      "execution_count": null,
      "outputs": []
    },
    {
      "cell_type": "code",
      "source": [
        "column_transformer3.fit(X_train)"
      ],
      "metadata": {
        "colab": {
          "base_uri": "https://localhost:8080/"
        },
        "id": "jBSq8GJ_VvS0",
        "outputId": "07927a48-6a15-4cd8-bf79-7e2879a57b5d"
      },
      "execution_count": null,
      "outputs": [
        {
          "output_type": "execute_result",
          "data": {
            "text/plain": [
              "ColumnTransformer(transformers=[('Eliminar', 'drop', [3, 5, 6, 16, 17, 18]),\n",
              "                                ('Pipeline_numerico2',\n",
              "                                 Pipeline(steps=[('imputar',\n",
              "                                                  IterativeImputer()),\n",
              "                                                 ('escalado',\n",
              "                                                  StandardScaler())]),\n",
              "                                 [0, 4, 8, 10, 11, 12, 13]),\n",
              "                                ('Pipeline_categorico2',\n",
              "                                 Pipeline(steps=[('imputar',\n",
              "                                                  SimpleImputer(strategy='most_frequent')),\n",
              "                                                 ('categorico_a_num',\n",
              "                                                  OneHotEncoder(sparse=False))]),\n",
              "                                 [1, 2, 7, 9, 14])])"
            ]
          },
          "metadata": {},
          "execution_count": 193
        }
      ]
    },
    {
      "cell_type": "code",
      "source": [
        "Z_train = column_transformer3.transform(X_train)"
      ],
      "metadata": {
        "id": "jRboGe4bVx4L"
      },
      "execution_count": null,
      "outputs": []
    },
    {
      "cell_type": "code",
      "source": [
        "resultado3 = cross_validate(LogisticRegression(), Z_train, Y_train, scoring=[\"accuracy\"], cv=10)"
      ],
      "metadata": {
        "id": "o05JOS7WV157"
      },
      "execution_count": null,
      "outputs": []
    },
    {
      "cell_type": "code",
      "source": [
        "print(\"mean={}\".format(resultado3[\"test_accuracy\"].mean()*100), \"std={}\".format(resultado3[\"test_accuracy\"].std()*100))"
      ],
      "metadata": {
        "colab": {
          "base_uri": "https://localhost:8080/"
        },
        "id": "Sfi6EH7mV3_j",
        "outputId": "dac40c4a-942e-4896-d568-07575036e3c5"
      },
      "execution_count": null,
      "outputs": [
        {
          "output_type": "stream",
          "name": "stdout",
          "text": [
            "mean=90.61234676356668 std=1.0647317209914633\n"
          ]
        }
      ]
    },
    {
      "cell_type": "markdown",
      "source": [
        "# 10 Guardar el pipeline como joblib.\n"
      ],
      "metadata": {
        "id": "-ZT_4Stu5nRb"
      }
    },
    {
      "cell_type": "code",
      "source": [
        "dump(column_transformer, \"Parcial3_EDRA.joblib\")"
      ],
      "metadata": {
        "colab": {
          "base_uri": "https://localhost:8080/"
        },
        "id": "wZGzs8KmWUFm",
        "outputId": "dffb1c5a-6a72-4a37-c11d-7cd076addcf9"
      },
      "execution_count": null,
      "outputs": [
        {
          "output_type": "execute_result",
          "data": {
            "text/plain": [
              "['Parcial3_EDRA.joblib']"
            ]
          },
          "metadata": {},
          "execution_count": 197
        }
      ]
    },
    {
      "cell_type": "markdown",
      "source": [
        "# 11 Cargar el pipeline y probarlo con un dato de entrada."
      ],
      "metadata": {
        "id": "-n6Ggqp65pCa"
      }
    },
    {
      "cell_type": "code",
      "source": [
        "sd=load('Parcial3_EDRA.joblib')"
      ],
      "metadata": {
        "id": "JRGzLScqW6LF"
      },
      "execution_count": null,
      "outputs": []
    },
    {
      "cell_type": "code",
      "source": [
        "age = 42#@param {type:\"number\"}\n",
        "job =\"technician\" #@param \"{type:string}\"\n",
        "education =\"secondary\" #@param \"{type:string}\"\n",
        "default = 0.0 #@param \"{type:float}\"\n",
        "balance = 440 #@param {type:\"number\"}\n",
        "housing = 1.0 #@param \"{type:float}\"\n",
        "loan = 0.0 #@param \"{type:float}\"\n",
        "contract = \"cellular\" #@param \"{type:string}\"\n",
        "day =3 #@param {type:\"number\"}\n",
        "month = \"feb\" #@param \"{type:string}\"\n",
        "duration = 13 #@param {type:\"number\"}\n",
        "compaign = 5 #@param {type:\"number\"}\n",
        "pdays = -1 #@param {type:\"number\"}\n",
        "previous = 0 #@param {type:\"number\"}\n",
        "poutcome = \"unknown\" #@param \"{type:string}\"\n",
        "y =\"no\" #@param \"{type:string}\"\n",
        "single = 0.0 #@param \"{type:float}\"\n",
        "married = 1.0 #@param \"{type:float}\"\n",
        "divorced = 0.0 #@param \"{type:float}\"\n"
      ],
      "metadata": {
        "id": "n4dcXDAeXIKz"
      },
      "execution_count": null,
      "outputs": []
    }
  ]
}